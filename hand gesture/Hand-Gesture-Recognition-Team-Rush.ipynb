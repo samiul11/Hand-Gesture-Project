{
 "cells": [
  {
   "cell_type": "code",
   "execution_count": 1,
   "metadata": {},
   "outputs": [],
   "source": [
    "import cv2\n",
    "import os\n",
    "import glob\n",
    "import numpy as np\n",
    "import matplotlib.pyplot as plt\n",
    "import math\n",
    "import random"
   ]
  },
  {
   "cell_type": "code",
   "execution_count": 2,
   "metadata": {},
   "outputs": [],
   "source": [
    "folder_path = \"E:/UiS/DAT540/Group Project/images/\"\n",
    "# The folders Need to be such that -\n",
    "    # 1 finger = one\n",
    "    # 2 fingers = two\n",
    "    # And so on\n",
    "    # A zip file of the images folders is attached with the project submission."
   ]
  },
  {
   "cell_type": "code",
   "execution_count": 3,
   "metadata": {},
   "outputs": [],
   "source": [
    "# Loading files and putting them in lists\n",
    "images = [cv2.imread(file) for file in glob.glob(folder_path + 'zero/*.jpg')]\n",
    "images_real_results = [0 for file in glob.glob(folder_path + 'zero/*.jpg')]\n",
    "\n",
    "images.extend([cv2.imread(file) for file in glob.glob(folder_path + 'one/*.jpg')])\n",
    "images_real_results.extend([1 for file in glob.glob(folder_path + 'one/*.jpg')])\n",
    "\n",
    "images.extend([cv2.imread(file) for file in glob.glob(folder_path + 'two/*.jpg')])\n",
    "images_real_results.extend([2 for file in glob.glob(folder_path + 'two/*.jpg')])\n",
    "\n",
    "images.extend([cv2.imread(file) for file in glob.glob(folder_path + 'three/*.jpg')])\n",
    "images_real_results.extend([3 for file in glob.glob(folder_path + 'three/*.jpg')])\n",
    "\n",
    "images.extend([cv2.imread(file) for file in glob.glob(folder_path + 'four/*.jpg')])\n",
    "images_real_results.extend([4 for file in glob.glob(folder_path + 'four/*.jpg')])\n",
    "\n",
    "images.extend([cv2.imread(file) for file in glob.glob(folder_path + 'five/*.jpg')])\n",
    "images_real_results.extend([5 for file in glob.glob(folder_path + 'five/*.jpg')])"
   ]
  },
  {
   "cell_type": "code",
   "execution_count": 4,
   "metadata": {},
   "outputs": [
    {
     "name": "stdout",
     "output_type": "stream",
     "text": [
      "No. of Training Images: 53\n",
      "No. of Test Images: 28\n"
     ]
    }
   ],
   "source": [
    "# First shuffle the data\n",
    "# Since we have 2 lists and they reflect each others values,\n",
    "# we had to combine them so that we can shuffle the values together,\n",
    "# and finally separate them put them in their respective lists.\n",
    "combined = list(zip(images, images_real_results))\n",
    "random.shuffle(combined)\n",
    "images[:], images_real_results[:] = zip(*combined)\n",
    "\n",
    "# Separating the data into Training and Test data\n",
    "# For this project we have separated them in a 66:34 ratio\n",
    "split_index = int((66/100)*len(images))\n",
    "\n",
    "training_images = images[:split_index]\n",
    "training_image_results = images_real_results[:split_index]\n",
    "\n",
    "test_images = images[split_index:]\n",
    "test_image_results = images_real_results[split_index:]\n",
    "\n",
    "print(\"No. of Training Images:\",len(training_images))\n",
    "print(\"No. of Test Images:\", len(test_images))"
   ]
  },
  {
   "cell_type": "code",
   "execution_count": 5,
   "metadata": {},
   "outputs": [],
   "source": [
    "def calc_fingers(count, arearatio, areacnt):\n",
    "    if count == 0:\n",
    "        if areacnt < 2000:\n",
    "            fingers = 0\n",
    "        else:\n",
    "            if arearatio < 12:\n",
    "                fingers = 0\n",
    "            else:\n",
    "                fingers = 1\n",
    "    elif count == 1:\n",
    "        fingers = 2\n",
    "    elif count == 2:\n",
    "        fingers = 3\n",
    "    elif count == 3:\n",
    "        fingers = 4\n",
    "    elif count == 4:\n",
    "        fingers = 5\n",
    "    \n",
    "    return fingers\n",
    "\n",
    "def calculateFingers(image):  # -> finished bool, count: finger count\n",
    "    drawing = np.zeros(image.shape, np.uint8)\n",
    "    \n",
    "    img = cv2.medianBlur(image, 5)\n",
    "    gray = cv2.cvtColor(img, cv2.COLOR_BGR2GRAY)\n",
    "    \n",
    "    blur = cv2.GaussianBlur(gray, (9, 11), 0)\n",
    "    ret, thresh = cv2.threshold(blur, 127, 255, cv2.THRESH_BINARY)\n",
    "    \n",
    "    thresh = (255 - thresh)\n",
    "    \n",
    "    drawing = thresh\n",
    "    \n",
    "    _, contours, hierarchy = cv2.findContours(thresh, cv2.RETR_TREE, cv2.CHAIN_APPROX_NONE)\n",
    "    cnt = max(contours, key = lambda x: cv2.contourArea(x))\n",
    "    \n",
    "    length = len(contours)\n",
    "    \n",
    "    hull1 = cv2.convexHull(cnt)\n",
    "        #print('here')\n",
    "    cv2.drawContours(drawing, [cnt], 0, (0, 255, 0), 2)\n",
    "    cv2.drawContours(drawing, [hull1], 0, (0, 0, 255), 2)\n",
    "        \n",
    "    hull = cv2.convexHull(cnt, returnPoints=False)\n",
    "    areacnt = cv2.contourArea(cnt)\n",
    "    areahull = cv2.contourArea(hull1)\n",
    "    arearatio=((areahull-areacnt)/areacnt)*100\n",
    "#     print(arearatio)\n",
    "#     print(areacnt)\n",
    "#     print(areahull)\n",
    "    if len(hull) > 3:\n",
    "        defects = cv2.convexityDefects(cnt, hull)\n",
    "\n",
    "        if type(defects) != type(None):  # avoid crashing.   (BUG not found)\n",
    "            count = 0\n",
    "            for i in range(defects.shape[0]):  # calculate the angle\n",
    "                s, e, f, d = defects[i][0]\n",
    "                start = tuple(cnt[s][0])\n",
    "                end = tuple(cnt[e][0])\n",
    "                far = tuple(cnt[f][0])\n",
    "\n",
    "\n",
    "\n",
    "                a = math.sqrt((end[0] - start[0]) ** 2 + (end[1] - start[1]) ** 2)\n",
    "                b = math.sqrt((far[0] - start[0]) ** 2 + (far[1] - start[1]) ** 2)\n",
    "                c = math.sqrt((end[0] - far[0]) ** 2 + (end[1] - far[1]) ** 2)\n",
    "\n",
    "                angle = math.acos((b ** 2 + c ** 2 - a ** 2) / (2 * b * c))  # cosine theorem\n",
    "#                     print(d)\n",
    "                if angle <= math.pi / 3 and d > 1000:  # angle less than 90 degree, treat as fingers\n",
    "                    count += 1\n",
    "                    cv2.circle(drawing, far, 4, [255, 255, 255], -1)\n",
    "                \n",
    "            #plt.imshow(drawing)\n",
    "            #print(count)\n",
    "            return calc_fingers(count,arearatio, areacnt)\n",
    "    return 0"
   ]
  },
  {
   "cell_type": "code",
   "execution_count": 7,
   "metadata": {
    "scrolled": true
   },
   "outputs": [
    {
     "name": "stdout",
     "output_type": "stream",
     "text": [
      "        Defects             Number of Fingers\n",
      "1       2                   2\n",
      "2       2                   2\n",
      "3       5                   4\n",
      "4       3                   3\n",
      "5       2                   0\n",
      "6       3                   2\n",
      "7       1                   2\n",
      "8       2                   1\n",
      "9       3                   4\n",
      "10      2                   2\n",
      "11      2                   0\n",
      "12      2                   1\n",
      "13      2                   4\n",
      "14      4                   3\n",
      "15      1                   1\n",
      "16      4                   4\n",
      "17      5                   5\n",
      "18      0                   2\n",
      "19      2                   0\n",
      "20      1                   0\n",
      "21      3                   5\n",
      "22      2                   3\n",
      "23      3                   3\n",
      "24      2                   2\n",
      "25      5                   4\n",
      "26      4                   4\n",
      "27      1                   1\n",
      "28      2                   2\n",
      "29      2                   3\n",
      "30      2                   2\n",
      "31      4                   5\n",
      "32      0                   4\n",
      "33      3                   3\n",
      "34      1                   1\n",
      "35      2                   2\n",
      "36      2                   3\n",
      "37      2                   4\n",
      "38      2                   2\n",
      "39      4                   4\n",
      "40      4                   4\n",
      "41      2                   2\n",
      "42      3                   3\n",
      "43      2                   2\n",
      "44      3                   3\n",
      "45      3                   4\n",
      "46      1                   2\n",
      "47      3                   3\n",
      "48      0                   5\n",
      "49      2                   2\n",
      "50      2                   1\n",
      "51      3                   3\n",
      "52      0                   1\n",
      "53      2                   3\n"
     ]
    }
   ],
   "source": [
    "n_defects = []\n",
    "#cv_img = []\n",
    "\n",
    "for i in range(len(training_images)):\n",
    "    #plt.imshow(img)\n",
    "    #print(i)\n",
    "    n_defects.append(calculateFingers(training_images[i]))\n",
    "\n",
    "# Output\n",
    "fmt = '{:<8}{:<20}{}'\n",
    "print(fmt.format('', 'Defects', 'Number of Fingers'))\n",
    "for i, (defect, no_of_fingers) in enumerate(zip(n_defects, training_image_results)):\n",
    "    print(fmt.format(i+1, defect, no_of_fingers))"
   ]
  },
  {
   "cell_type": "code",
   "execution_count": 8,
   "metadata": {},
   "outputs": [
    {
     "data": {
      "text/plain": [
       "KNeighborsClassifier(algorithm='auto', leaf_size=30, metric='minkowski',\n",
       "           metric_params=None, n_jobs=1, n_neighbors=3, p=2,\n",
       "           weights='uniform')"
      ]
     },
     "execution_count": 8,
     "metadata": {},
     "output_type": "execute_result"
    }
   ],
   "source": [
    "# Importing KNN from Scikit-Learn\n",
    "from sklearn.neighbors import KNeighborsClassifier\n",
    "\n",
    "features = list(zip(n_defects))\n",
    "    \n",
    "model = KNeighborsClassifier(n_neighbors = 3)\n",
    "model.fit(features, training_image_results)"
   ]
  },
  {
   "cell_type": "code",
   "execution_count": 9,
   "metadata": {},
   "outputs": [],
   "source": [
    "# Function for predicting with KNN\n",
    "def knn_prediction(predict_for):\n",
    "    prediction = model.predict([[predict_for]]) # Prediction with 'n' defects\n",
    "    return prediction[0]"
   ]
  },
  {
   "cell_type": "code",
   "execution_count": 11,
   "metadata": {},
   "outputs": [
    {
     "name": "stdout",
     "output_type": "stream",
     "text": [
      "Total test images: 28\n",
      "Number of correct predictions: 9\n",
      "\n",
      "Accuracy: 32.142857142857146\n"
     ]
    }
   ],
   "source": [
    "# The Accuracy of the model\n",
    "\n",
    "#fmt = '{:<8}{:<20}{:<20}{}'\n",
    "#print(fmt.format('', 'Defects', 'Prediction', 'Real Number of Fingers'))\n",
    "correct_count = 0\n",
    "\n",
    "for i in range(len(test_images)):\n",
    "    defect = calculateFingers(test_images[i])\n",
    "\n",
    "    prediction = knn_prediction(predict_for = defect)\n",
    "\n",
    "    #print(fmt.format(i+1, defect, prediction, test_image_results[i]))\n",
    "\n",
    "    if(prediction == test_image_results[i]):\n",
    "        correct_count = correct_count + 1\n",
    "        \n",
    "print(\"Total test images:\",len(test_images))\n",
    "print(\"Number of correct predictions:\",correct_count)\n",
    "print(\"\\nAccuracy:\", 100*(correct_count/len(test_images)))"
   ]
  },
  {
   "cell_type": "code",
   "execution_count": 12,
   "metadata": {},
   "outputs": [
    {
     "data": {
      "text/plain": [
       "KNeighborsClassifier(algorithm='auto', leaf_size=30, metric='minkowski',\n",
       "           metric_params=None, n_jobs=1, n_neighbors=3, p=2,\n",
       "           weights='uniform')"
      ]
     },
     "execution_count": 12,
     "metadata": {},
     "output_type": "execute_result"
    }
   ],
   "source": [
    "n_defects = []\n",
    "\n",
    "for img in images:\n",
    "    n_defects.append(calculateFingers(img))\n",
    "    \n",
    "features = list(zip(n_defects))\n",
    "    \n",
    "model = KNeighborsClassifier(n_neighbors = 3)\n",
    "model.fit(features, images_real_results)"
   ]
  },
  {
   "cell_type": "code",
   "execution_count": null,
   "metadata": {},
   "outputs": [],
   "source": [
    "captured_image = None\n",
    "\n",
    "cam = cv2.VideoCapture(0)\n",
    "\n",
    "cv2.namedWindow(\"hand gesture\")\n",
    "\n",
    "img_counter = 0\n",
    "\n",
    "while cam.isOpened():\n",
    "    ret, frame = cam.read()\n",
    "    \n",
    "    cv2.rectangle(frame,(70,70),(300,300),(100,200,50),0)\n",
    "    crop_image = frame[90:300, 90:300]\n",
    "    \n",
    "    cv2.imshow(\"hand gesture\", frame)\n",
    "    \n",
    "    if not ret:\n",
    "        break\n",
    "    k = cv2.waitKey(1)\n",
    "\n",
    "    if k%256 == 27:\n",
    "        # ESC pressed\n",
    "        break\n",
    "    elif k%256 == 32: # SPACE pressed\n",
    "        captured_image = crop_image\n",
    "        break\n",
    "        \n",
    "cam.release()\n",
    "\n",
    "cv2.destroyAllWindows()\n",
    "\n",
    "# Predict the Number of Fingers in the Captured Image.\n",
    "defect = calculateFingers(captured_image)\n",
    "\n",
    "prediction = knn_prediction(predict_for = defect)\n",
    "\n",
    "fmt = '{:<20}{}'\n",
    "print(fmt.format('Defects Found', 'Prediction'))\n",
    "print(fmt.format(defect, prediction))\n",
    "plt.imshow(captured_image)"
   ]
  },
  {
   "cell_type": "code",
   "execution_count": null,
   "metadata": {},
   "outputs": [],
   "source": []
  }
 ],
 "metadata": {
  "kernelspec": {
   "display_name": "Python 3",
   "language": "python",
   "name": "python3"
  },
  "language_info": {
   "codemirror_mode": {
    "name": "ipython",
    "version": 3
   },
   "file_extension": ".py",
   "mimetype": "text/x-python",
   "name": "python",
   "nbconvert_exporter": "python",
   "pygments_lexer": "ipython3",
   "version": "3.6.5"
  }
 },
 "nbformat": 4,
 "nbformat_minor": 2
}
